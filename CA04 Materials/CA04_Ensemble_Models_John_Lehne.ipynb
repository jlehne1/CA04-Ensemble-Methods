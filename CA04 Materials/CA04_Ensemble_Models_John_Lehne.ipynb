{
  "nbformat": 4,
  "nbformat_minor": 0,
  "metadata": {
    "colab": {
      "name": "CA04-Ensemble-Models-John_Lehne.ipynb",
      "provenance": []
    },
    "kernelspec": {
      "name": "python3",
      "display_name": "Python 3"
    },
    "language_info": {
      "name": "python"
    }
  },
  "cells": [
    {
      "cell_type": "markdown",
      "source": [
        "## John Lehne\n",
        "\n",
        "## CA04 - Ensemble Methods"
      ],
      "metadata": {
        "id": "U7aPr9Knl4nP"
      }
    },
    {
      "cell_type": "code",
      "execution_count": 1,
      "metadata": {
        "id": "cZZFdHm1jsqy"
      },
      "outputs": [],
      "source": [
        "# importing packages\n",
        "import pandas as pd\n",
        "import numpy as np\n",
        "import matplotlib.pyplot as plt"
      ]
    },
    {
      "cell_type": "code",
      "source": [
        "#read data using URL\n",
        "url = 'https://github.com/ArinB/MSBA-CA-Data/blob/main/CA03/census_data.csv?raw=true' \n",
        "data = pd.read_csv(url, encoding = \"ISO-8859-1\")\n",
        "\n",
        "#making sure data was read correctly\n",
        "data.head()"
      ],
      "metadata": {
        "colab": {
          "base_uri": "https://localhost:8080/",
          "height": 250
        },
        "id": "akfLx2pDmTeX",
        "outputId": "adc50b84-313a-4051-b14a-e7429831e976"
      },
      "execution_count": 2,
      "outputs": [
        {
          "output_type": "execute_result",
          "data": {
            "text/plain": [
              "  hours_per_week_bin occupation_bin  msr_bin capital_gl_bin race_sex_bin  \\\n",
              "0           b. 31-40   b. Mid - Low   b. Mid         c. > 0      c. High   \n",
              "1            a. 0-30        e. High  c. High         a. = 0      c. High   \n",
              "2           b. 31-40         a. Low   b. Mid         a. = 0      c. High   \n",
              "3           b. 31-40         a. Low  c. High         a. = 0       b. Mid   \n",
              "4           b. 31-40        e. High  c. High         a. = 0       a. Low   \n",
              "\n",
              "  education_num_bin education_bin workclass_bin            age_bin   flag  y  \n",
              "0             c. 13  c. Bachelors     b. income   d. 36-40 & 56-60  train  0  \n",
              "1             c. 13  c. Bachelors     b. income           e. 40-55  train  0  \n",
              "2           b. 9-12        b. Mid     b. income   d. 36-40 & 56-60  train  0  \n",
              "3            a. 0-8        a. Low     b. income           e. 40-55  train  0  \n",
              "4             c. 13  c. Bachelors     b. income  b. 26-30 & 71-100  train  0  "
            ],
            "text/html": [
              "\n",
              "  <div id=\"df-b530ad3b-5db6-4766-ad59-df6c3506c551\">\n",
              "    <div class=\"colab-df-container\">\n",
              "      <div>\n",
              "<style scoped>\n",
              "    .dataframe tbody tr th:only-of-type {\n",
              "        vertical-align: middle;\n",
              "    }\n",
              "\n",
              "    .dataframe tbody tr th {\n",
              "        vertical-align: top;\n",
              "    }\n",
              "\n",
              "    .dataframe thead th {\n",
              "        text-align: right;\n",
              "    }\n",
              "</style>\n",
              "<table border=\"1\" class=\"dataframe\">\n",
              "  <thead>\n",
              "    <tr style=\"text-align: right;\">\n",
              "      <th></th>\n",
              "      <th>hours_per_week_bin</th>\n",
              "      <th>occupation_bin</th>\n",
              "      <th>msr_bin</th>\n",
              "      <th>capital_gl_bin</th>\n",
              "      <th>race_sex_bin</th>\n",
              "      <th>education_num_bin</th>\n",
              "      <th>education_bin</th>\n",
              "      <th>workclass_bin</th>\n",
              "      <th>age_bin</th>\n",
              "      <th>flag</th>\n",
              "      <th>y</th>\n",
              "    </tr>\n",
              "  </thead>\n",
              "  <tbody>\n",
              "    <tr>\n",
              "      <th>0</th>\n",
              "      <td>b. 31-40</td>\n",
              "      <td>b. Mid - Low</td>\n",
              "      <td>b. Mid</td>\n",
              "      <td>c. &gt; 0</td>\n",
              "      <td>c. High</td>\n",
              "      <td>c. 13</td>\n",
              "      <td>c. Bachelors</td>\n",
              "      <td>b. income</td>\n",
              "      <td>d. 36-40 &amp; 56-60</td>\n",
              "      <td>train</td>\n",
              "      <td>0</td>\n",
              "    </tr>\n",
              "    <tr>\n",
              "      <th>1</th>\n",
              "      <td>a. 0-30</td>\n",
              "      <td>e. High</td>\n",
              "      <td>c. High</td>\n",
              "      <td>a. = 0</td>\n",
              "      <td>c. High</td>\n",
              "      <td>c. 13</td>\n",
              "      <td>c. Bachelors</td>\n",
              "      <td>b. income</td>\n",
              "      <td>e. 40-55</td>\n",
              "      <td>train</td>\n",
              "      <td>0</td>\n",
              "    </tr>\n",
              "    <tr>\n",
              "      <th>2</th>\n",
              "      <td>b. 31-40</td>\n",
              "      <td>a. Low</td>\n",
              "      <td>b. Mid</td>\n",
              "      <td>a. = 0</td>\n",
              "      <td>c. High</td>\n",
              "      <td>b. 9-12</td>\n",
              "      <td>b. Mid</td>\n",
              "      <td>b. income</td>\n",
              "      <td>d. 36-40 &amp; 56-60</td>\n",
              "      <td>train</td>\n",
              "      <td>0</td>\n",
              "    </tr>\n",
              "    <tr>\n",
              "      <th>3</th>\n",
              "      <td>b. 31-40</td>\n",
              "      <td>a. Low</td>\n",
              "      <td>c. High</td>\n",
              "      <td>a. = 0</td>\n",
              "      <td>b. Mid</td>\n",
              "      <td>a. 0-8</td>\n",
              "      <td>a. Low</td>\n",
              "      <td>b. income</td>\n",
              "      <td>e. 40-55</td>\n",
              "      <td>train</td>\n",
              "      <td>0</td>\n",
              "    </tr>\n",
              "    <tr>\n",
              "      <th>4</th>\n",
              "      <td>b. 31-40</td>\n",
              "      <td>e. High</td>\n",
              "      <td>c. High</td>\n",
              "      <td>a. = 0</td>\n",
              "      <td>a. Low</td>\n",
              "      <td>c. 13</td>\n",
              "      <td>c. Bachelors</td>\n",
              "      <td>b. income</td>\n",
              "      <td>b. 26-30 &amp; 71-100</td>\n",
              "      <td>train</td>\n",
              "      <td>0</td>\n",
              "    </tr>\n",
              "  </tbody>\n",
              "</table>\n",
              "</div>\n",
              "      <button class=\"colab-df-convert\" onclick=\"convertToInteractive('df-b530ad3b-5db6-4766-ad59-df6c3506c551')\"\n",
              "              title=\"Convert this dataframe to an interactive table.\"\n",
              "              style=\"display:none;\">\n",
              "        \n",
              "  <svg xmlns=\"http://www.w3.org/2000/svg\" height=\"24px\"viewBox=\"0 0 24 24\"\n",
              "       width=\"24px\">\n",
              "    <path d=\"M0 0h24v24H0V0z\" fill=\"none\"/>\n",
              "    <path d=\"M18.56 5.44l.94 2.06.94-2.06 2.06-.94-2.06-.94-.94-2.06-.94 2.06-2.06.94zm-11 1L8.5 8.5l.94-2.06 2.06-.94-2.06-.94L8.5 2.5l-.94 2.06-2.06.94zm10 10l.94 2.06.94-2.06 2.06-.94-2.06-.94-.94-2.06-.94 2.06-2.06.94z\"/><path d=\"M17.41 7.96l-1.37-1.37c-.4-.4-.92-.59-1.43-.59-.52 0-1.04.2-1.43.59L10.3 9.45l-7.72 7.72c-.78.78-.78 2.05 0 2.83L4 21.41c.39.39.9.59 1.41.59.51 0 1.02-.2 1.41-.59l7.78-7.78 2.81-2.81c.8-.78.8-2.07 0-2.86zM5.41 20L4 18.59l7.72-7.72 1.47 1.35L5.41 20z\"/>\n",
              "  </svg>\n",
              "      </button>\n",
              "      \n",
              "  <style>\n",
              "    .colab-df-container {\n",
              "      display:flex;\n",
              "      flex-wrap:wrap;\n",
              "      gap: 12px;\n",
              "    }\n",
              "\n",
              "    .colab-df-convert {\n",
              "      background-color: #E8F0FE;\n",
              "      border: none;\n",
              "      border-radius: 50%;\n",
              "      cursor: pointer;\n",
              "      display: none;\n",
              "      fill: #1967D2;\n",
              "      height: 32px;\n",
              "      padding: 0 0 0 0;\n",
              "      width: 32px;\n",
              "    }\n",
              "\n",
              "    .colab-df-convert:hover {\n",
              "      background-color: #E2EBFA;\n",
              "      box-shadow: 0px 1px 2px rgba(60, 64, 67, 0.3), 0px 1px 3px 1px rgba(60, 64, 67, 0.15);\n",
              "      fill: #174EA6;\n",
              "    }\n",
              "\n",
              "    [theme=dark] .colab-df-convert {\n",
              "      background-color: #3B4455;\n",
              "      fill: #D2E3FC;\n",
              "    }\n",
              "\n",
              "    [theme=dark] .colab-df-convert:hover {\n",
              "      background-color: #434B5C;\n",
              "      box-shadow: 0px 1px 3px 1px rgba(0, 0, 0, 0.15);\n",
              "      filter: drop-shadow(0px 1px 2px rgba(0, 0, 0, 0.3));\n",
              "      fill: #FFFFFF;\n",
              "    }\n",
              "  </style>\n",
              "\n",
              "      <script>\n",
              "        const buttonEl =\n",
              "          document.querySelector('#df-b530ad3b-5db6-4766-ad59-df6c3506c551 button.colab-df-convert');\n",
              "        buttonEl.style.display =\n",
              "          google.colab.kernel.accessAllowed ? 'block' : 'none';\n",
              "\n",
              "        async function convertToInteractive(key) {\n",
              "          const element = document.querySelector('#df-b530ad3b-5db6-4766-ad59-df6c3506c551');\n",
              "          const dataTable =\n",
              "            await google.colab.kernel.invokeFunction('convertToInteractive',\n",
              "                                                     [key], {});\n",
              "          if (!dataTable) return;\n",
              "\n",
              "          const docLinkHtml = 'Like what you see? Visit the ' +\n",
              "            '<a target=\"_blank\" href=https://colab.research.google.com/notebooks/data_table.ipynb>data table notebook</a>'\n",
              "            + ' to learn more about interactive tables.';\n",
              "          element.innerHTML = '';\n",
              "          dataTable['output_type'] = 'display_data';\n",
              "          await google.colab.output.renderOutput(dataTable, element);\n",
              "          const docLink = document.createElement('div');\n",
              "          docLink.innerHTML = docLinkHtml;\n",
              "          element.appendChild(docLink);\n",
              "        }\n",
              "      </script>\n",
              "    </div>\n",
              "  </div>\n",
              "  "
            ]
          },
          "metadata": {},
          "execution_count": 2
        }
      ]
    },
    {
      "cell_type": "markdown",
      "source": [
        "## Data Quality Analysis"
      ],
      "metadata": {
        "id": "wjl9J2m2mZXB"
      }
    },
    {
      "cell_type": "code",
      "source": [
        "# Number of total rows and columns\n",
        "data.shape"
      ],
      "metadata": {
        "colab": {
          "base_uri": "https://localhost:8080/"
        },
        "id": "tre0VqDEmXZH",
        "outputId": "17e3bd4c-d48c-4699-d7ac-3f4030d6f97a"
      },
      "execution_count": 3,
      "outputs": [
        {
          "output_type": "execute_result",
          "data": {
            "text/plain": [
              "(48842, 11)"
            ]
          },
          "metadata": {},
          "execution_count": 3
        }
      ]
    },
    {
      "cell_type": "code",
      "source": [
        "# Number of non-null values for each column\n",
        "data.count()"
      ],
      "metadata": {
        "colab": {
          "base_uri": "https://localhost:8080/"
        },
        "id": "M1RNRvJzmff_",
        "outputId": "1262a7ec-e50b-4025-e573-c784eaf2eb85"
      },
      "execution_count": 4,
      "outputs": [
        {
          "output_type": "execute_result",
          "data": {
            "text/plain": [
              "hours_per_week_bin    48842\n",
              "occupation_bin        48842\n",
              "msr_bin               48842\n",
              "capital_gl_bin        48842\n",
              "race_sex_bin          48842\n",
              "education_num_bin     48842\n",
              "education_bin         48842\n",
              "workclass_bin         48842\n",
              "age_bin               48842\n",
              "flag                  48842\n",
              "y                     48842\n",
              "dtype: int64"
            ]
          },
          "metadata": {},
          "execution_count": 4
        }
      ]
    },
    {
      "cell_type": "code",
      "source": [
        "# Number of null values for each column\n",
        "data.isnull().sum()"
      ],
      "metadata": {
        "colab": {
          "base_uri": "https://localhost:8080/"
        },
        "id": "GAf_VzdMmiEE",
        "outputId": "0849555f-8a7b-4070-f851-bd363c9affd4"
      },
      "execution_count": 5,
      "outputs": [
        {
          "output_type": "execute_result",
          "data": {
            "text/plain": [
              "hours_per_week_bin    0\n",
              "occupation_bin        0\n",
              "msr_bin               0\n",
              "capital_gl_bin        0\n",
              "race_sex_bin          0\n",
              "education_num_bin     0\n",
              "education_bin         0\n",
              "workclass_bin         0\n",
              "age_bin               0\n",
              "flag                  0\n",
              "y                     0\n",
              "dtype: int64"
            ]
          },
          "metadata": {},
          "execution_count": 5
        }
      ]
    },
    {
      "cell_type": "code",
      "source": [
        "# Range, column, number of non-null objects, data type, memory usage\n",
        "data.info()"
      ],
      "metadata": {
        "colab": {
          "base_uri": "https://localhost:8080/"
        },
        "id": "dEpE0IHrmkaZ",
        "outputId": "d518b743-76e7-4d63-f20b-ea2b872c60cf"
      },
      "execution_count": 6,
      "outputs": [
        {
          "output_type": "stream",
          "name": "stdout",
          "text": [
            "<class 'pandas.core.frame.DataFrame'>\n",
            "RangeIndex: 48842 entries, 0 to 48841\n",
            "Data columns (total 11 columns):\n",
            " #   Column              Non-Null Count  Dtype \n",
            "---  ------              --------------  ----- \n",
            " 0   hours_per_week_bin  48842 non-null  object\n",
            " 1   occupation_bin      48842 non-null  object\n",
            " 2   msr_bin             48842 non-null  object\n",
            " 3   capital_gl_bin      48842 non-null  object\n",
            " 4   race_sex_bin        48842 non-null  object\n",
            " 5   education_num_bin   48842 non-null  object\n",
            " 6   education_bin       48842 non-null  object\n",
            " 7   workclass_bin       48842 non-null  object\n",
            " 8   age_bin             48842 non-null  object\n",
            " 9   flag                48842 non-null  object\n",
            " 10  y                   48842 non-null  int64 \n",
            "dtypes: int64(1), object(10)\n",
            "memory usage: 4.1+ MB\n"
          ]
        }
      ]
    },
    {
      "cell_type": "markdown",
      "source": [
        "## Splitting Data and Preparing for Models"
      ],
      "metadata": {
        "id": "i-1AuThtmwZ_"
      }
    },
    {
      "cell_type": "code",
      "source": [
        "# Seperating data into training features and labels \n",
        "data_train = data[data.flag == 'train']\n",
        "# Seperating Features\n",
        "x_train = data_train.drop(columns = ['flag','y'])\n",
        "# Seperating Labels\n",
        "y_train = data_train.y\n",
        "\n",
        "# Seperating data into testing features and labels\n",
        "data_test = data[data.flag == 'test']\n",
        "# Seperating Features\n",
        "x_test = data_test.drop(columns = ['flag', 'y'])\n",
        "# Seperating Labels\n",
        "y_test = data_test.y"
      ],
      "metadata": {
        "id": "V6mld6LEmmM4"
      },
      "execution_count": 7,
      "outputs": []
    },
    {
      "cell_type": "code",
      "source": [
        "# One-hot-encoding variables for Decision Tree to run without error\n",
        "one_hot_train = pd.get_dummies(x_train, drop_first = True)\n",
        "one_hot_test = pd.get_dummies(x_test, drop_first = True)"
      ],
      "metadata": {
        "id": "b1tbO8kzm3jU"
      },
      "execution_count": 8,
      "outputs": []
    },
    {
      "cell_type": "markdown",
      "source": [
        "## Random Forest Model"
      ],
      "metadata": {
        "id": "eXIaLDsczqF8"
      }
    },
    {
      "cell_type": "code",
      "source": [
        "# Importing packages from sklearn \n",
        "from sklearn.ensemble import RandomForestClassifier\n",
        "\n",
        "# Creating variable results to append random forest results to for plotting\n",
        "results = []\n",
        "# Defining the options for the estimator values\n",
        "estimator_options = [50, 100, 150, 200, 250, 300, 350, 400, 450, 500]\n",
        "# Creating Random Forest model using for loop to iterate through estimator_options\n",
        "for estimator in estimator_options:\n",
        "  forest = RandomForestClassifier(n_estimators = estimator, random_state = 19)\n",
        "  forest.fit(one_hot_train, y_train)\n",
        "  y_pred = forest.predict(one_hot_test)\n",
        "  # Calculating accuracy \n",
        "  accuracy = np.mean(y_test == y_pred)\n",
        "  # Appending results with the accuracy values\n",
        "  results.append(accuracy)\n",
        "\n",
        "# Creating plot to visualize the accuracy for the estimators \n",
        "plt.figure(figsize=(8,4))\n",
        "pd.Series(results, estimator_options).plot(color = \"darkblue\", marker = \"o\")"
      ],
      "metadata": {
        "colab": {
          "base_uri": "https://localhost:8080/",
          "height": 283
        },
        "id": "Cwu1Bh1Fm5mc",
        "outputId": "06a351dc-46b9-4f7f-9438-398c56d69687"
      },
      "execution_count": 9,
      "outputs": [
        {
          "output_type": "execute_result",
          "data": {
            "text/plain": [
              "<matplotlib.axes._subplots.AxesSubplot at 0x7f162f1d6f10>"
            ]
          },
          "metadata": {},
          "execution_count": 9
        },
        {
          "output_type": "display_data",
          "data": {
            "text/plain": [
              "<Figure size 576x288 with 1 Axes>"
            ],
            "image/png": "[encoded data removed]"
          },
          "metadata": {
            "needs_background": "light"
          }
        }
      ]
    },
    {
      "cell_type": "markdown",
      "source": [
        "Looking at the above visualization, one can see that there is a steady increase in accuracy as the n_estimators increases.  At 500, there is a decline.\n",
        "\n",
        "The decline at 500 would suggest that 450 is the optimal n_estimator value. The high accuracy compared to the other estimators would support this argument.  "
      ],
      "metadata": {
        "id": "sFb31UF6AMo6"
      }
    },
    {
      "cell_type": "markdown",
      "source": [
        "## AdaBoost Model"
      ],
      "metadata": {
        "id": "WUdHe2WnH-pH"
      }
    },
    {
      "cell_type": "code",
      "source": [
        "# Importing packages from sklearn \n",
        "from sklearn.ensemble import AdaBoostClassifier\n",
        "\n",
        "# Creating variable results to append AdaBoost results to for plotting\n",
        "results = []\n",
        "# Defining the options for the estimator values\n",
        "estimator_options = [50, 100, 150, 200, 250, 300, 350, 400, 450, 500]\n",
        "# Creating AdaBoost model using for loop to iterate through estimator_options\n",
        "for estimator in estimator_options:\n",
        "  aboost = AdaBoostClassifier(n_estimators = estimator, random_state = 19)\n",
        "  aboost.fit(one_hot_train, y_train)\n",
        "  y_pred = aboost.predict(one_hot_test)\n",
        "  # Calculating accuracy \n",
        "  accuracy = np.mean(y_test == y_pred)\n",
        "  # Appending results with the accuracy values\n",
        "  results.append(accuracy)\n",
        "\n",
        "# Creating plot to visualize the accuracy for the estimators \n",
        "plt.figure(figsize=(8,4))\n",
        "pd.Series(results, estimator_options).plot(color = \"darkred\", marker = \"o\")"
      ],
      "metadata": {
        "id": "NuABYlx3Ao3c",
        "colab": {
          "base_uri": "https://localhost:8080/",
          "height": 283
        },
        "outputId": "b9b08f81-81ee-469d-afce-891208e3ab02"
      },
      "execution_count": 10,
      "outputs": [
        {
          "output_type": "execute_result",
          "data": {
            "text/plain": [
              "<matplotlib.axes._subplots.AxesSubplot at 0x7f162ecacad0>"
            ]
          },
          "metadata": {},
          "execution_count": 10
        },
        {
          "output_type": "display_data",
          "data": {
            "text/plain": [
              "<Figure size 576x288 with 1 Axes>"
            ],
            "image/png": "[encoded data removed]"
          },
          "metadata": {
            "needs_background": "light"
          }
        }
      ]
    },
    {
      "cell_type": "markdown",
      "source": [
        "Looking at the above visualization, one can see that there is a significant increase followed by a gradual decrease in accuracy as the n_estimators increases. After 100, the decline begins.\n",
        "\n",
        "The decline after 100 would suggest that 100 is the optimal n_estimator value for this model. The high accuracy compared to the other estimators would support this argument."
      ],
      "metadata": {
        "id": "dQpYJluWNapj"
      }
    },
    {
      "cell_type": "markdown",
      "source": [
        "## Gradient Boost Model"
      ],
      "metadata": {
        "id": "UAPafO5SNx3J"
      }
    },
    {
      "cell_type": "code",
      "source": [
        "# Importing packages from sklearn \n",
        "from sklearn.ensemble import GradientBoostingClassifier\n",
        "\n",
        "# Creating variable results to append Gradient Boost results to for plotting\n",
        "results = []\n",
        "# Defining the options for the estimator values\n",
        "estimator_options = [50, 100, 150, 200, 250, 300, 350, 400, 450, 500]\n",
        "# Creating Gradient Boost model using for loop to iterate through estimator_options\n",
        "for estimator in estimator_options:\n",
        "  gboost = GradientBoostingClassifier(n_estimators = estimator, random_state = 19)\n",
        "  gboost.fit(one_hot_train, y_train)\n",
        "  y_pred = gboost.predict(one_hot_test)\n",
        "  # Calculating accuracy \n",
        "  accuracy = np.mean(y_test == y_pred)\n",
        "  # Appending results with the accuracy values\n",
        "  results.append(accuracy)\n",
        "\n",
        "# Creating plot to visualize the accuracy for the estimators \n",
        "plt.figure(figsize=(8,4))\n",
        "pd.Series(results, estimator_options).plot(color = \"darkgreen\", marker = \"o\")"
      ],
      "metadata": {
        "colab": {
          "base_uri": "https://localhost:8080/",
          "height": 283
        },
        "id": "Fxxux32cNwDD",
        "outputId": "03421c15-b775-4c48-fa82-0cb7065e9e37"
      },
      "execution_count": 11,
      "outputs": [
        {
          "output_type": "execute_result",
          "data": {
            "text/plain": [
              "<matplotlib.axes._subplots.AxesSubplot at 0x7f162ebec4d0>"
            ]
          },
          "metadata": {},
          "execution_count": 11
        },
        {
          "output_type": "display_data",
          "data": {
            "text/plain": [
              "<Figure size 576x288 with 1 Axes>"
            ],
            "image/png": "[encoded data removed]"
          },
          "metadata": {
            "needs_background": "light"
          }
        }
      ]
    },
    {
      "cell_type": "markdown",
      "source": [
        "Looking at the above visualization, one can see that the value with the highest accuracy is 250. After 250, the accuracy decreases as the estimators increases.\n",
        "\n",
        "The decline after 250 would suggest that 250 is the optimal n_estimator value for this model. The high accuracy compared to the other estimators would support this argument."
      ],
      "metadata": {
        "id": "LBSDj1MhWyJS"
      }
    },
    {
      "cell_type": "markdown",
      "source": [
        "## Extreme Gradient Boost Model"
      ],
      "metadata": {
        "id": "khD2zfVTXE05"
      }
    },
    {
      "cell_type": "code",
      "source": [
        "# Installing XGBoost and importing packages  \n",
        "!pip install xgboost\n",
        "\n",
        "from sklearn import datasets\n",
        "import xgboost as xgb"
      ],
      "metadata": {
        "colab": {
          "base_uri": "https://localhost:8080/"
        },
        "id": "hwxb7ET4fJDX",
        "outputId": "176f44b8-8737-4c4a-f251-45b628bb3c04"
      },
      "execution_count": 12,
      "outputs": [
        {
          "output_type": "stream",
          "name": "stdout",
          "text": [
            "Requirement already satisfied: xgboost in /usr/local/lib/python3.7/dist-packages (0.90)\n",
            "Requirement already satisfied: scipy in /usr/local/lib/python3.7/dist-packages (from xgboost) (1.4.1)\n",
            "Requirement already satisfied: numpy in /usr/local/lib/python3.7/dist-packages (from xgboost) (1.21.5)\n"
          ]
        }
      ]
    },
    {
      "cell_type": "code",
      "source": [
        "# Renaming columns to remove '<' and '>' symbols that will throw error in XGB\n",
        "new_one_hot_test = one_hot_test.rename(columns = {'capital_gl_bin_b. < 0': 'capital_gl_bin_b. less than 0',\n",
        "                                                  'capital_gl_bin_c. > 0': 'capital_gl_bin_c. greater than 0'})\n",
        "new_one_hot_train = one_hot_train.rename(columns = {'capital_gl_bin_b. < 0': 'capital_gl_bin_b. less than 0',\n",
        "                                                    'capital_gl_bin_c. > 0': 'capital_gl_bin_c. greater than 0'})"
      ],
      "metadata": {
        "id": "VdVNISjgjvuL"
      },
      "execution_count": 13,
      "outputs": []
    },
    {
      "cell_type": "code",
      "source": [
        "# Creating variable results to append XGBoost results to for plotting\n",
        "results = []\n",
        "# Defining the options for the estimator values\n",
        "estimator_options = [50, 100, 150, 200, 250, 300, 350, 400, 450, 500]\n",
        "# Creating XGBoost model using for loop to iterate through estimator_options\n",
        "for estimator in estimator_options:\n",
        "  xboost = xgb.XGBClassifier(n_estimators = estimator, learning_rate = 0.3, max_depth = 3, \n",
        "                             objective = 'multi:softprob', num_class = 3, random_state = 19)\n",
        "  xboost.fit(new_one_hot_train, y_train)\n",
        "  y_pred = xboost.predict(new_one_hot_test)\n",
        "  # Calculating accuracy \n",
        "  accuracy = np.mean(y_test == y_pred)\n",
        "  # Appending results with the accuracy values\n",
        "  results.append(accuracy)\n",
        "\n",
        "# Creating plot to visualize the accuracy for the estimators \n",
        "plt.figure(figsize=(8,4))\n",
        "pd.Series(results, estimator_options).plot(color = \"gold\", marker = \"o\")"
      ],
      "metadata": {
        "colab": {
          "base_uri": "https://localhost:8080/",
          "height": 283
        },
        "id": "GHytDt3ZXES2",
        "outputId": "c8f581a2-0ea9-47eb-979e-fe450562af7d"
      },
      "execution_count": 14,
      "outputs": [
        {
          "output_type": "execute_result",
          "data": {
            "text/plain": [
              "<matplotlib.axes._subplots.AxesSubplot at 0x7f1624f75fd0>"
            ]
          },
          "metadata": {},
          "execution_count": 14
        },
        {
          "output_type": "display_data",
          "data": {
            "text/plain": [
              "<Figure size 576x288 with 1 Axes>"
            ],
            "image/png": "[encoded data removed]"
          },
          "metadata": {
            "needs_background": "light"
          }
        }
      ]
    },
    {
      "cell_type": "code",
      "source": [
        "# Alternative Method of XGB (returns identical results as above)\n",
        "\n",
        "# Reformatting training and testing data for xgb\n",
        "d_train = xgb.DMatrix(new_one_hot_train, label = y_train)\n",
        "d_test = xgb.DMatrix(new_one_hot_test, label = y_test)\n",
        "\n",
        "# Creating variable results to append XGBoost results to for plotting\n",
        "results = []\n",
        "# Defining the options for the estimator values\n",
        "estimator_options = [50, 100, 150, 200, 250, 300, 350, 400, 450, 500]\n",
        "# Creating XGBoost model using for loop to iterate through estimator_options\n",
        "for estimator in estimator_options:\n",
        "  params = {\n",
        "      'eta' : 0.3,\n",
        "      'max_depth' : 3,\n",
        "      'objective' : 'multi:softprob',\n",
        "      'num_class' : 3,\n",
        "      'random_state' : 19\n",
        "      }\n",
        "  steps = estimator # number of training iterations \n",
        "  xboost = xgb.train(params, d_train, steps)\n",
        "  pred = xboost.predict(d_test)\n",
        "  y_pred = np.asarray([np.argmax(line) for line in pred])\n",
        "  # Calculating accuracy \n",
        "  accuracy = np.mean(y_test == y_pred)\n",
        "  # Appending results with the accuracy values\n",
        "  results.append(accuracy)\n",
        "\n",
        "# Creating plot to visualize the accuracy for the estimators \n",
        "plt.figure(figsize=(8,4))\n",
        "pd.Series(results, estimator_options).plot(color = \"gold\", marker = \"o\")"
      ],
      "metadata": {
        "colab": {
          "base_uri": "https://localhost:8080/",
          "height": 283
        },
        "id": "JQvtE0A3of_o",
        "outputId": "d3b8b61a-f70b-4e95-b245-70be04f59fa2"
      },
      "execution_count": 15,
      "outputs": [
        {
          "output_type": "execute_result",
          "data": {
            "text/plain": [
              "<matplotlib.axes._subplots.AxesSubplot at 0x7f1624f64490>"
            ]
          },
          "metadata": {},
          "execution_count": 15
        },
        {
          "output_type": "display_data",
          "data": {
            "text/plain": [
              "<Figure size 576x288 with 1 Axes>"
            ],
            "image/png": "[encoded data removed]"
          },
          "metadata": {
            "needs_background": "light"
          }
        }
      ]
    },
    {
      "cell_type": "markdown",
      "source": [
        "Looking at the above visualization, one can see that the value with the highest accuracy is 300. After 300, the accuracy decreases as the estimators increases.\n",
        "\n",
        "The decline after 300 would suggest that 300 is the optimal n_estimator value for this model. The high accuracy compared to the other estimators would support this argument.\n",
        "\n"
      ],
      "metadata": {
        "id": "pC_CYSP3JUtD"
      }
    },
    {
      "cell_type": "markdown",
      "source": [
        "## Evaluating Models with Performance Metrics"
      ],
      "metadata": {
        "id": "K0g9eKKRzW0I"
      }
    },
    {
      "cell_type": "code",
      "source": [
        "# Building blank dataframe to put final data for performance metrics\n",
        "perf_metrics = pd.DataFrame(columns = ['RandomForest', 'AdaBoost', 'GradientBoost', 'XGB'],\n",
        "                            index = ['Accuracy', 'AUC'])\n",
        "\n",
        "# importing package to calculate AUC score\n",
        "from sklearn.metrics import roc_auc_score\n",
        "\n",
        "# Running the various models\n",
        "\n",
        "# Random Forest\n",
        "# Building random forest with the common hyper-params\n",
        "forest = RandomForestClassifier(n_estimators = 100, max_depth = 3, min_samples_split = 2,\n",
        "                                min_samples_leaf = 1, random_state = 19)\n",
        "forest.fit(one_hot_train, y_train)\n",
        "y_pred = forest.predict(one_hot_test)\n",
        "# Calculating accuracy \n",
        "rf_acc = np.mean(y_test == y_pred)\n",
        "# Calcularing AUC\n",
        "rf_auc = roc_auc_score(y_test, y_pred)\n",
        "\n",
        "# AdaBoost\n",
        "# Building adaboost with common hyper-params\n",
        "aboost = AdaBoostClassifier(n_estimators = 100, learning_rate = 0.3, random_state = 19) # AdaBoost has fewest common hyper-params\n",
        "aboost.fit(one_hot_train, y_train)\n",
        "y_pred = aboost.predict(one_hot_test)\n",
        "# Calculating accuracy \n",
        "aboost_acc = np.mean(y_test == y_pred)\n",
        "# Calculating AUC\n",
        "aboost_auc = roc_auc_score(y_test, y_pred)\n",
        "\n",
        "# GradientBoost\n",
        "# Building gradient boosting with common hyper-params\n",
        "gboost = GradientBoostingClassifier(n_estimators = 100, learning_rate = 0.3, min_samples_split = 2, \n",
        "                                    min_samples_leaf = 1, max_depth = 3, random_state = 19)\n",
        "gboost.fit(one_hot_train, y_train)\n",
        "y_pred = gboost.predict(one_hot_test)\n",
        "# Calculating accuracy \n",
        "gboost_acc = np.mean(y_test == y_pred)\n",
        "# Calculating AUC\n",
        "gboost_auc = roc_auc_score(y_test, y_pred)\n",
        "\n",
        "# Extreme Gradient Boosting (XGB)\n",
        "# Building xgb with common hyper-params\n",
        "xboost = xgb.XGBClassifier(n_estimators = 100, learning_rate = 0.3, max_depth = 3, \n",
        "                             objective = 'multi:softprob', num_class = 3, random_state = 19) #additional hyper-params used in XGB\n",
        "xboost.fit(new_one_hot_train, y_train) #must use new_one_hot_train/test from earlier in code\n",
        "y_pred = xboost.predict(new_one_hot_test)\n",
        "# Calculating accuracy \n",
        "xgb_acc = np.mean(y_test == y_pred)\n",
        "# Calculating AUC\n",
        "xgb_auc = roc_auc_score(y_test, y_pred)\n",
        "\n",
        "# Populating accuracy and auc values to performance metrics table\n",
        "perf_metrics.loc['Accuracy'] = pd.Series({'RandomForest':rf_acc, 'AdaBoost':aboost_acc, \n",
        "                                          'GradientBoost':gboost_acc, 'XGB':xgb_acc})\n",
        "perf_metrics.loc['AUC'] = pd.Series({'RandomForest':rf_auc, 'AdaBoost':aboost_auc,\n",
        "                                     'GradientBoost':gboost_auc, 'XGB':xgb_auc})\n",
        "\n",
        "# Displaying final performance metrics for the models\n",
        "print(perf_metrics)\n",
        "# Printing the common hyper parameters used in the models\n",
        "print('Common Hyper-Parameters:')\n",
        "print('n_estimator:', 100)\n",
        "print('max_depth:', 3)\n",
        "print('min_samples_split:', 2)\n",
        "print('min_samples_leaf:', 1)\n",
        "print('eta (learning_rate):', 0.3)\n",
        "print('random_state:', 19)"
      ],
      "metadata": {
        "colab": {
          "base_uri": "https://localhost:8080/"
        },
        "id": "E_uYvkMSr3sP",
        "outputId": "aaca8d6d-321d-4ddf-d77d-116f8c9b8ced"
      },
      "execution_count": 28,
      "outputs": [
        {
          "output_type": "stream",
          "name": "stdout",
          "text": [
            "         RandomForest  AdaBoost GradientBoost       XGB\n",
            "Accuracy     0.809225  0.841963      0.846815  0.846201\n",
            "AUC           0.61093  0.729791       0.75793  0.757528\n",
            "Common Hyper-Parameters:\n",
            "n_estimator: 100\n",
            "max_depth: 3\n",
            "min_samples_split: 2\n",
            "min_samples_leaf: 1\n",
            "eta (learning_rate): 0.3\n",
            "random_state: 19\n"
          ]
        }
      ]
    },
    {
      "cell_type": "markdown",
      "source": [
        "As shown in the table above, GradientBoost has the best performance metrics across the models given the hyper-parameters that were set.  XGB is nearly identical in performance to GradientBoost, with just marginally lower scores. "
      ],
      "metadata": {
        "id": "AayCesXXy63d"
      }
    }
  ]
}